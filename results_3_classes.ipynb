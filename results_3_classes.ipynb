{
 "cells": [
  {
   "cell_type": "markdown",
   "metadata": {},
   "source": [
    "### В этом ноутбуке результаты применения на 3-х классах 5 методов векторизации текстов (doc2vec, word2vec, NGrams, Hashing, TF-IDF) на 15 классификаторах (см. таблицу)"
   ]
  },
  {
   "cell_type": "code",
   "execution_count": 1,
   "metadata": {
    "collapsed": true
   },
   "outputs": [],
   "source": [
    "import pandas as pd"
   ]
  },
  {
   "cell_type": "code",
   "execution_count": 62,
   "metadata": {
    "collapsed": false
   },
   "outputs": [],
   "source": [
    "file = open('results.txt', 'r')\n",
    "a = file.readlines()"
   ]
  },
  {
   "cell_type": "code",
   "execution_count": 63,
   "metadata": {
    "collapsed": true
   },
   "outputs": [],
   "source": [
    "headers = []"
   ]
  },
  {
   "cell_type": "code",
   "execution_count": 64,
   "metadata": {
    "collapsed": false
   },
   "outputs": [],
   "source": [
    "for item in a:\n",
    "    if 'Results' in item:\n",
    "        headers.append(item)"
   ]
  },
  {
   "cell_type": "code",
   "execution_count": 76,
   "metadata": {
    "collapsed": false
   },
   "outputs": [
    {
     "data": {
      "text/plain": [
       "['NGrams, n=2 Results\\n',\n",
       " 'NGrams, n=3 Results\\n',\n",
       " 'Word2vec Results\\n',\n",
       " 'Doc2vec Results\\n',\n",
       " 'Hashing Results\\n',\n",
       " 'TF_IDF Results\\n']"
      ]
     },
     "execution_count": 76,
     "metadata": {},
     "output_type": "execute_result"
    }
   ],
   "source": [
    "headers"
   ]
  },
  {
   "cell_type": "code",
   "execution_count": 66,
   "metadata": {
    "collapsed": false
   },
   "outputs": [],
   "source": [
    "list_n2 = (headers[0], [elem.split()[1] for elem in a[1:17] if elem !='\\n'])"
   ]
  },
  {
   "cell_type": "code",
   "execution_count": 67,
   "metadata": {
    "collapsed": false
   },
   "outputs": [],
   "source": [
    "list_n3 = (headers[1], [elem.split()[1] for elem in a[20:35] if elem !='\\n'])"
   ]
  },
  {
   "cell_type": "code",
   "execution_count": 86,
   "metadata": {
    "collapsed": true
   },
   "outputs": [],
   "source": [
    "list_word2vec = (headers[2], [elem.split()[1] for elem in a[38:54] if elem !='\\n'])"
   ]
  },
  {
   "cell_type": "code",
   "execution_count": 69,
   "metadata": {
    "collapsed": false
   },
   "outputs": [],
   "source": [
    "list_doc2vec = (headers[3], [elem.split()[1] for elem in a[56:72] if elem !='\\n'])"
   ]
  },
  {
   "cell_type": "code",
   "execution_count": 70,
   "metadata": {
    "collapsed": false
   },
   "outputs": [],
   "source": [
    "list_hash = (headers[4], [elem.split()[1] for elem in a[74:90] if elem !='\\n'])"
   ]
  },
  {
   "cell_type": "code",
   "execution_count": 71,
   "metadata": {
    "collapsed": false
   },
   "outputs": [],
   "source": [
    "list_tfidf = (headers[5], [elem.split()[1] for elem in a[92:108] if elem !='\\n'])"
   ]
  },
  {
   "cell_type": "code",
   "execution_count": 77,
   "metadata": {
    "collapsed": true
   },
   "outputs": [],
   "source": [
    "r_names = ('classifiers', ['RidgeClassifier','Perceptron', 'PassiveAggressiveClassifier', 'KNeighborsClassifier', 'RandomForestClassifier', 'LinearSVC L2', 'SGDClassifier L2', 'LinearSVC L1','SGDClassifier L1','SGDClassifier Elasticnet','NearestCentroid', 'LogisticRegression L2', 'MultinomialNB', 'BernoulliNB', 'Pipeline'])"
   ]
  },
  {
   "cell_type": "code",
   "execution_count": 87,
   "metadata": {
    "collapsed": true
   },
   "outputs": [],
   "source": [
    "lists= [r_names, list_doc2vec, list_tfidf, list_hash, list_n2, list_n3, list_word2vec]"
   ]
  },
  {
   "cell_type": "code",
   "execution_count": 88,
   "metadata": {
    "collapsed": false
   },
   "outputs": [],
   "source": [
    "frame = pd.DataFrame.from_items(lists)"
   ]
  },
  {
   "cell_type": "code",
   "execution_count": 89,
   "metadata": {
    "collapsed": false
   },
   "outputs": [
    {
     "data": {
      "text/html": [
       "<div>\n",
       "<table border=\"1\" class=\"dataframe\">\n",
       "  <thead>\n",
       "    <tr style=\"text-align: right;\">\n",
       "      <th></th>\n",
       "      <th>classifiers</th>\n",
       "      <th>Doc2vec Results</th>\n",
       "      <th>TF_IDF Results</th>\n",
       "      <th>Hashing Results</th>\n",
       "      <th>NGrams, n=2 Results</th>\n",
       "      <th>NGrams, n=3 Results</th>\n",
       "      <th>Word2vec Results</th>\n",
       "    </tr>\n",
       "  </thead>\n",
       "  <tbody>\n",
       "    <tr>\n",
       "      <th>0</th>\n",
       "      <td>RidgeClassifier</td>\n",
       "      <td>0.659817351598</td>\n",
       "      <td>0.641666666667</td>\n",
       "      <td>0.641666666667</td>\n",
       "      <td>0.608333333333</td>\n",
       "      <td>0.591666666667</td>\n",
       "      <td>0.5</td>\n",
       "    </tr>\n",
       "    <tr>\n",
       "      <th>1</th>\n",
       "      <td>Perceptron</td>\n",
       "      <td>0.420091324201</td>\n",
       "      <td>0.7</td>\n",
       "      <td>0.7</td>\n",
       "      <td>0.729166666667</td>\n",
       "      <td>0.595833333333</td>\n",
       "      <td>0.506849315068</td>\n",
       "    </tr>\n",
       "    <tr>\n",
       "      <th>2</th>\n",
       "      <td>PassiveAggressiveClassifier</td>\n",
       "      <td>0.623287671233</td>\n",
       "      <td>0.6625</td>\n",
       "      <td>0.6625</td>\n",
       "      <td>0.666666666667</td>\n",
       "      <td>0.575</td>\n",
       "      <td>0.445205479452</td>\n",
       "    </tr>\n",
       "    <tr>\n",
       "      <th>3</th>\n",
       "      <td>KNeighborsClassifier</td>\n",
       "      <td>0.447488584475</td>\n",
       "      <td>0.65</td>\n",
       "      <td>0.65</td>\n",
       "      <td>0.283333333333</td>\n",
       "      <td>0.254166666667</td>\n",
       "      <td>0.527397260274</td>\n",
       "    </tr>\n",
       "    <tr>\n",
       "      <th>4</th>\n",
       "      <td>RandomForestClassifier</td>\n",
       "      <td>0.566210045662</td>\n",
       "      <td>0.6625</td>\n",
       "      <td>0.6625</td>\n",
       "      <td>0.620833333333</td>\n",
       "      <td>0.55</td>\n",
       "      <td>0.392694063927</td>\n",
       "    </tr>\n",
       "    <tr>\n",
       "      <th>5</th>\n",
       "      <td>LinearSVC L2</td>\n",
       "      <td>0.641552511416</td>\n",
       "      <td>0.658333333333</td>\n",
       "      <td>0.658333333333</td>\n",
       "      <td>0.658333333333</td>\n",
       "      <td>0.5625</td>\n",
       "      <td>0.522831050228</td>\n",
       "    </tr>\n",
       "    <tr>\n",
       "      <th>6</th>\n",
       "      <td>SGDClassifier L2</td>\n",
       "      <td>0.595890410959</td>\n",
       "      <td>0.679166666667</td>\n",
       "      <td>0.679166666667</td>\n",
       "      <td>0.6375</td>\n",
       "      <td>0.541666666667</td>\n",
       "      <td>0.513698630137</td>\n",
       "    </tr>\n",
       "    <tr>\n",
       "      <th>7</th>\n",
       "      <td>LinearSVC L1</td>\n",
       "      <td>0.648401826484</td>\n",
       "      <td>0.675</td>\n",
       "      <td>0.675</td>\n",
       "      <td>0.679166666667</td>\n",
       "      <td>0.533333333333</td>\n",
       "      <td>0.472602739726</td>\n",
       "    </tr>\n",
       "    <tr>\n",
       "      <th>8</th>\n",
       "      <td>SGDClassifier L1</td>\n",
       "      <td>0.625570776256</td>\n",
       "      <td>0.7</td>\n",
       "      <td>0.7</td>\n",
       "      <td>0.679166666667</td>\n",
       "      <td>0.5875</td>\n",
       "      <td>0.442922374429</td>\n",
       "    </tr>\n",
       "    <tr>\n",
       "      <th>9</th>\n",
       "      <td>SGDClassifier Elasticnet</td>\n",
       "      <td>0.618721461187</td>\n",
       "      <td>0.691666666667</td>\n",
       "      <td>0.691666666667</td>\n",
       "      <td>0.658333333333</td>\n",
       "      <td>0.55</td>\n",
       "      <td>0.340182648402</td>\n",
       "    </tr>\n",
       "    <tr>\n",
       "      <th>10</th>\n",
       "      <td>NearestCentroid</td>\n",
       "      <td>0.600456621005</td>\n",
       "      <td>0.670833333333</td>\n",
       "      <td>0.670833333333</td>\n",
       "      <td>0.545833333333</td>\n",
       "      <td>0.558333333333</td>\n",
       "      <td>0.436073059361</td>\n",
       "    </tr>\n",
       "    <tr>\n",
       "      <th>11</th>\n",
       "      <td>LogisticRegression L2</td>\n",
       "      <td>0.65296803653</td>\n",
       "      <td>0.595833333333</td>\n",
       "      <td>0.595833333333</td>\n",
       "      <td>0.6625</td>\n",
       "      <td>0.591666666667</td>\n",
       "      <td>0.536529680365</td>\n",
       "    </tr>\n",
       "    <tr>\n",
       "      <th>12</th>\n",
       "      <td>MultinomialNB</td>\n",
       "      <td>0.385844748858</td>\n",
       "      <td>0.645833333333</td>\n",
       "      <td>0.645833333333</td>\n",
       "      <td>0.304166666667</td>\n",
       "      <td>0.6</td>\n",
       "      <td>0.456621004566</td>\n",
       "    </tr>\n",
       "    <tr>\n",
       "      <th>13</th>\n",
       "      <td>BernoulliNB</td>\n",
       "      <td>0.388127853881</td>\n",
       "      <td>0.7</td>\n",
       "      <td>0.7</td>\n",
       "      <td>0.404166666667</td>\n",
       "      <td>0.579166666667</td>\n",
       "      <td>0.477168949772</td>\n",
       "    </tr>\n",
       "    <tr>\n",
       "      <th>14</th>\n",
       "      <td>Pipeline</td>\n",
       "      <td>0.639269406393</td>\n",
       "      <td>0.645833333333</td>\n",
       "      <td>0.645833333333</td>\n",
       "      <td>0.679166666667</td>\n",
       "      <td>0.575</td>\n",
       "      <td>0.522831050228</td>\n",
       "    </tr>\n",
       "  </tbody>\n",
       "</table>\n",
       "</div>"
      ],
      "text/plain": [
       "                    classifiers Doc2vec Results\\n TF_IDF Results\\n  \\\n",
       "0               RidgeClassifier    0.659817351598   0.641666666667   \n",
       "1                    Perceptron    0.420091324201              0.7   \n",
       "2   PassiveAggressiveClassifier    0.623287671233           0.6625   \n",
       "3          KNeighborsClassifier    0.447488584475             0.65   \n",
       "4        RandomForestClassifier    0.566210045662           0.6625   \n",
       "5                  LinearSVC L2    0.641552511416   0.658333333333   \n",
       "6              SGDClassifier L2    0.595890410959   0.679166666667   \n",
       "7                  LinearSVC L1    0.648401826484            0.675   \n",
       "8              SGDClassifier L1    0.625570776256              0.7   \n",
       "9      SGDClassifier Elasticnet    0.618721461187   0.691666666667   \n",
       "10              NearestCentroid    0.600456621005   0.670833333333   \n",
       "11        LogisticRegression L2     0.65296803653   0.595833333333   \n",
       "12                MultinomialNB    0.385844748858   0.645833333333   \n",
       "13                  BernoulliNB    0.388127853881              0.7   \n",
       "14                     Pipeline    0.639269406393   0.645833333333   \n",
       "\n",
       "   Hashing Results\\n NGrams, n=2 Results\\n NGrams, n=3 Results\\n  \\\n",
       "0     0.641666666667        0.608333333333        0.591666666667   \n",
       "1                0.7        0.729166666667        0.595833333333   \n",
       "2             0.6625        0.666666666667                 0.575   \n",
       "3               0.65        0.283333333333        0.254166666667   \n",
       "4             0.6625        0.620833333333                  0.55   \n",
       "5     0.658333333333        0.658333333333                0.5625   \n",
       "6     0.679166666667                0.6375        0.541666666667   \n",
       "7              0.675        0.679166666667        0.533333333333   \n",
       "8                0.7        0.679166666667                0.5875   \n",
       "9     0.691666666667        0.658333333333                  0.55   \n",
       "10    0.670833333333        0.545833333333        0.558333333333   \n",
       "11    0.595833333333                0.6625        0.591666666667   \n",
       "12    0.645833333333        0.304166666667                   0.6   \n",
       "13               0.7        0.404166666667        0.579166666667   \n",
       "14    0.645833333333        0.679166666667                 0.575   \n",
       "\n",
       "   Word2vec Results\\n  \n",
       "0                 0.5  \n",
       "1      0.506849315068  \n",
       "2      0.445205479452  \n",
       "3      0.527397260274  \n",
       "4      0.392694063927  \n",
       "5      0.522831050228  \n",
       "6      0.513698630137  \n",
       "7      0.472602739726  \n",
       "8      0.442922374429  \n",
       "9      0.340182648402  \n",
       "10     0.436073059361  \n",
       "11     0.536529680365  \n",
       "12     0.456621004566  \n",
       "13     0.477168949772  \n",
       "14     0.522831050228  "
      ]
     },
     "execution_count": 89,
     "metadata": {},
     "output_type": "execute_result"
    }
   ],
   "source": [
    "frame"
   ]
  }
 ],
 "metadata": {
  "kernelspec": {
   "display_name": "Python [conda root]",
   "language": "python",
   "name": "conda-root-py"
  },
  "language_info": {
   "codemirror_mode": {
    "name": "ipython",
    "version": 3
   },
   "file_extension": ".py",
   "mimetype": "text/x-python",
   "name": "python",
   "nbconvert_exporter": "python",
   "pygments_lexer": "ipython3",
   "version": "3.5.2"
  }
 },
 "nbformat": 4,
 "nbformat_minor": 1
}
